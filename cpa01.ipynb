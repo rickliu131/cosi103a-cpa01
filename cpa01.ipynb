{
 "cells": [
  {
   "cell_type": "markdown",
   "metadata": {
    "jupyter": {
     "outputs_hidden": true
    },
    "tags": []
   },
   "source": [
    "# What it is?\n",
    "The data of total COVID-19 confirmed cases worldwide from 2020.01.22 to 2020-07-27.\n",
    "# Source\n",
    "https://www.kaggle.com/imdevskp/corona-virus-report?select=covid_19_clean_complete.csv\n",
    "# Questions\n",
    "1. How many people recovered from covid up to July 4th, 2020 in the US?\n",
    "2. When did Singapore reached 5000 confirmed cases?\n",
    "\n",
    "\n",
    "\n",
    "\n"
   ]
  },
  {
   "cell_type": "markdown",
   "metadata": {},
   "source": [
    "# Code\n",
    "Imports"
   ]
  },
  {
   "cell_type": "code",
   "execution_count": 1,
   "metadata": {},
   "outputs": [],
   "source": [
    "import numpy as np\n",
    "import pandas as pd\n",
    "import matplotlib.pyplot as plt"
   ]
  },
  {
   "cell_type": "markdown",
   "metadata": {},
   "source": [
    "Load Data"
   ]
  },
  {
   "cell_type": "code",
   "execution_count": 2,
   "metadata": {},
   "outputs": [
    {
     "name": "stdout",
     "output_type": "stream",
     "text": [
      "      Province/State         Country/Region        Lat       Long        Date  \\\n",
      "0                NaN            Afghanistan  33.939110  67.709953  2020-01-22   \n",
      "1                NaN                Albania  41.153300  20.168300  2020-01-22   \n",
      "2                NaN                Algeria  28.033900   1.659600  2020-01-22   \n",
      "3                NaN                Andorra  42.506300   1.521800  2020-01-22   \n",
      "4                NaN                 Angola -11.202700  17.873900  2020-01-22   \n",
      "...              ...                    ...        ...        ...         ...   \n",
      "49063            NaN  Sao Tome and Principe   0.186400   6.613100  2020-07-27   \n",
      "49064            NaN                  Yemen  15.552727  48.516388  2020-07-27   \n",
      "49065            NaN                Comoros -11.645500  43.333300  2020-07-27   \n",
      "49066            NaN             Tajikistan  38.861000  71.276100  2020-07-27   \n",
      "49067            NaN                Lesotho -29.610000  28.233600  2020-07-27   \n",
      "\n",
      "       Confirmed  Deaths  Recovered  Active             WHO Region  \n",
      "0              0       0          0       0  Eastern Mediterranean  \n",
      "1              0       0          0       0                 Europe  \n",
      "2              0       0          0       0                 Africa  \n",
      "3              0       0          0       0                 Europe  \n",
      "4              0       0          0       0                 Africa  \n",
      "...          ...     ...        ...     ...                    ...  \n",
      "49063        865      14        734     117                 Africa  \n",
      "49064       1691     483        833     375  Eastern Mediterranean  \n",
      "49065        354       7        328      19                 Africa  \n",
      "49066       7235      60       6028    1147                 Europe  \n",
      "49067        505      12        128     365                 Africa  \n",
      "\n",
      "[49068 rows x 10 columns]\n"
     ]
    }
   ],
   "source": [
    "df = pd.read_csv('covid_19_clean_complete.csv')\n",
    "print(df)"
   ]
  },
  {
   "cell_type": "markdown",
   "metadata": {},
   "source": [
    "Index:"
   ]
  },
  {
   "cell_type": "code",
   "execution_count": 3,
   "metadata": {},
   "outputs": [
    {
     "name": "stdout",
     "output_type": "stream",
     "text": [
      "[    0     1     2 ... 49065 49066 49067]\n"
     ]
    }
   ],
   "source": [
    "print(df.index.values)"
   ]
  },
  {
   "cell_type": "markdown",
   "metadata": {},
   "source": [
    "Columns:"
   ]
  },
  {
   "cell_type": "code",
   "execution_count": 4,
   "metadata": {},
   "outputs": [
    {
     "name": "stdout",
     "output_type": "stream",
     "text": [
      "['Province/State' 'Country/Region' 'Lat' 'Long' 'Date' 'Confirmed'\n",
      " 'Deaths' 'Recovered' 'Active' 'WHO Region']\n"
     ]
    }
   ],
   "source": [
    "print(df.columns.values)"
   ]
  },
  {
   "cell_type": "markdown",
   "metadata": {},
   "source": [
    "Rough overview"
   ]
  },
  {
   "cell_type": "code",
   "execution_count": 5,
   "metadata": {},
   "outputs": [
    {
     "data": {
      "text/html": [
       "<div>\n",
       "<style scoped>\n",
       "    .dataframe tbody tr th:only-of-type {\n",
       "        vertical-align: middle;\n",
       "    }\n",
       "\n",
       "    .dataframe tbody tr th {\n",
       "        vertical-align: top;\n",
       "    }\n",
       "\n",
       "    .dataframe thead th {\n",
       "        text-align: right;\n",
       "    }\n",
       "</style>\n",
       "<table border=\"1\" class=\"dataframe\">\n",
       "  <thead>\n",
       "    <tr style=\"text-align: right;\">\n",
       "      <th></th>\n",
       "      <th>Lat</th>\n",
       "      <th>Long</th>\n",
       "      <th>Confirmed</th>\n",
       "      <th>Deaths</th>\n",
       "      <th>Recovered</th>\n",
       "      <th>Active</th>\n",
       "    </tr>\n",
       "  </thead>\n",
       "  <tbody>\n",
       "    <tr>\n",
       "      <th>count</th>\n",
       "      <td>49068.000000</td>\n",
       "      <td>49068.000000</td>\n",
       "      <td>4.906800e+04</td>\n",
       "      <td>49068.000000</td>\n",
       "      <td>4.906800e+04</td>\n",
       "      <td>4.906800e+04</td>\n",
       "    </tr>\n",
       "    <tr>\n",
       "      <th>mean</th>\n",
       "      <td>21.433730</td>\n",
       "      <td>23.528236</td>\n",
       "      <td>1.688490e+04</td>\n",
       "      <td>884.179160</td>\n",
       "      <td>7.915713e+03</td>\n",
       "      <td>8.085012e+03</td>\n",
       "    </tr>\n",
       "    <tr>\n",
       "      <th>std</th>\n",
       "      <td>24.950320</td>\n",
       "      <td>70.442740</td>\n",
       "      <td>1.273002e+05</td>\n",
       "      <td>6313.584411</td>\n",
       "      <td>5.480092e+04</td>\n",
       "      <td>7.625890e+04</td>\n",
       "    </tr>\n",
       "    <tr>\n",
       "      <th>min</th>\n",
       "      <td>-51.796300</td>\n",
       "      <td>-135.000000</td>\n",
       "      <td>0.000000e+00</td>\n",
       "      <td>0.000000</td>\n",
       "      <td>0.000000e+00</td>\n",
       "      <td>-1.400000e+01</td>\n",
       "    </tr>\n",
       "    <tr>\n",
       "      <th>25%</th>\n",
       "      <td>7.873054</td>\n",
       "      <td>-15.310100</td>\n",
       "      <td>4.000000e+00</td>\n",
       "      <td>0.000000</td>\n",
       "      <td>0.000000e+00</td>\n",
       "      <td>0.000000e+00</td>\n",
       "    </tr>\n",
       "    <tr>\n",
       "      <th>50%</th>\n",
       "      <td>23.634500</td>\n",
       "      <td>21.745300</td>\n",
       "      <td>1.680000e+02</td>\n",
       "      <td>2.000000</td>\n",
       "      <td>2.900000e+01</td>\n",
       "      <td>2.600000e+01</td>\n",
       "    </tr>\n",
       "    <tr>\n",
       "      <th>75%</th>\n",
       "      <td>41.204380</td>\n",
       "      <td>80.771797</td>\n",
       "      <td>1.518250e+03</td>\n",
       "      <td>30.000000</td>\n",
       "      <td>6.660000e+02</td>\n",
       "      <td>6.060000e+02</td>\n",
       "    </tr>\n",
       "    <tr>\n",
       "      <th>max</th>\n",
       "      <td>71.706900</td>\n",
       "      <td>178.065000</td>\n",
       "      <td>4.290259e+06</td>\n",
       "      <td>148011.000000</td>\n",
       "      <td>1.846641e+06</td>\n",
       "      <td>2.816444e+06</td>\n",
       "    </tr>\n",
       "  </tbody>\n",
       "</table>\n",
       "</div>"
      ],
      "text/plain": [
       "                Lat          Long     Confirmed         Deaths     Recovered  \\\n",
       "count  49068.000000  49068.000000  4.906800e+04   49068.000000  4.906800e+04   \n",
       "mean      21.433730     23.528236  1.688490e+04     884.179160  7.915713e+03   \n",
       "std       24.950320     70.442740  1.273002e+05    6313.584411  5.480092e+04   \n",
       "min      -51.796300   -135.000000  0.000000e+00       0.000000  0.000000e+00   \n",
       "25%        7.873054    -15.310100  4.000000e+00       0.000000  0.000000e+00   \n",
       "50%       23.634500     21.745300  1.680000e+02       2.000000  2.900000e+01   \n",
       "75%       41.204380     80.771797  1.518250e+03      30.000000  6.660000e+02   \n",
       "max       71.706900    178.065000  4.290259e+06  148011.000000  1.846641e+06   \n",
       "\n",
       "             Active  \n",
       "count  4.906800e+04  \n",
       "mean   8.085012e+03  \n",
       "std    7.625890e+04  \n",
       "min   -1.400000e+01  \n",
       "25%    0.000000e+00  \n",
       "50%    2.600000e+01  \n",
       "75%    6.060000e+02  \n",
       "max    2.816444e+06  "
      ]
     },
     "execution_count": 5,
     "metadata": {},
     "output_type": "execute_result"
    }
   ],
   "source": [
    "df.describe()"
   ]
  },
  {
   "cell_type": "markdown",
   "metadata": {},
   "source": [
    "Generate the pivot table  \n",
    "(index by date, columns are country-specific number of confirmed cases)"
   ]
  },
  {
   "cell_type": "code",
   "execution_count": 6,
   "metadata": {},
   "outputs": [
    {
     "name": "stdout",
     "output_type": "stream",
     "text": [
      "Country/Region  Afghanistan  Albania  Algeria  Andorra  Angola  \\\n",
      "Date                                                             \n",
      "2020-01-22                0        0        0        0       0   \n",
      "2020-01-23                0        0        0        0       0   \n",
      "2020-01-24                0        0        0        0       0   \n",
      "2020-01-25                0        0        0        0       0   \n",
      "2020-01-26                0        0        0        0       0   \n",
      "...                     ...      ...      ...      ...     ...   \n",
      "2020-07-23            35928     4466    25484      889     851   \n",
      "2020-07-24            35981     4570    26159      897     880   \n",
      "2020-07-25            36036     4637    26764      897     916   \n",
      "2020-07-26            36157     4763    27357      897     932   \n",
      "2020-07-27            36263     4880    27973      907     950   \n",
      "\n",
      "Country/Region  Antigua and Barbuda  Argentina  Armenia  Australia  Austria  \\\n",
      "Date                                                                          \n",
      "2020-01-22                        0          0        0          0        0   \n",
      "2020-01-23                        0          0        0          0        0   \n",
      "2020-01-24                        0          0        0          0        0   \n",
      "2020-01-25                        0          0        0          0        0   \n",
      "2020-01-26                        0          0        0          4        0   \n",
      "...                             ...        ...      ...        ...      ...   \n",
      "2020-07-23                       76     148027    36162      13595    20099   \n",
      "2020-07-24                       82     153520    36613      13950    20214   \n",
      "2020-07-25                       82     158334    36996      14403    20338   \n",
      "2020-07-26                       82     162526    37317      14935    20472   \n",
      "2020-07-27                       86     167416    37390      15303    20558   \n",
      "\n",
      "Country/Region  ...  United Kingdom  Uruguay  Uzbekistan  Venezuela  Vietnam  \\\n",
      "Date            ...                                                            \n",
      "2020-01-22      ...               0        0           0          0        0   \n",
      "2020-01-23      ...               0        0           0          0        2   \n",
      "2020-01-24      ...               0        0           0          0        2   \n",
      "2020-01-25      ...               0        0           0          0        2   \n",
      "2020-01-26      ...               0        0           0          0        2   \n",
      "...             ...             ...      ...         ...        ...      ...   \n",
      "2020-07-23      ...          298731     1141       18986      13613      412   \n",
      "2020-07-24      ...          299500     1166       19360      14263      415   \n",
      "2020-07-25      ...          300270     1174       19952      14929      417   \n",
      "2020-07-26      ...          301020     1192       20531      15463      420   \n",
      "2020-07-27      ...          301708     1202       21209      15988      431   \n",
      "\n",
      "Country/Region  West Bank and Gaza  Western Sahara  Yemen  Zambia  Zimbabwe  \n",
      "Date                                                                         \n",
      "2020-01-22                       0               0      0       0         0  \n",
      "2020-01-23                       0               0      0       0         0  \n",
      "2020-01-24                       0               0      0       0         0  \n",
      "2020-01-25                       0               0      0       0         0  \n",
      "2020-01-26                       0               0      0       0         0  \n",
      "...                            ...             ...    ...     ...       ...  \n",
      "2020-07-23                    9744              10   1654    3789      2124  \n",
      "2020-07-24                   10093              10   1674    3856      2296  \n",
      "2020-07-25                   10306              10   1674    4328      2434  \n",
      "2020-07-26                   10469              10   1681    4481      2512  \n",
      "2020-07-27                   10621              10   1691    4552      2704  \n",
      "\n",
      "[188 rows x 187 columns]\n"
     ]
    }
   ],
   "source": [
    "df_pivot = pd.pivot_table(df, values='Confirmed', index=['Date'], columns=['Country/Region'], aggfunc=np.sum)\n",
    "print(df_pivot)"
   ]
  },
  {
   "cell_type": "markdown",
   "metadata": {},
   "source": [
    "Limit countries to US, Russia, China, UK, and France"
   ]
  },
  {
   "cell_type": "code",
   "execution_count": 7,
   "metadata": {},
   "outputs": [
    {
     "name": "stdout",
     "output_type": "stream",
     "text": [
      "Country/Region       US  Russia  China  United Kingdom  France\n",
      "Date                                                          \n",
      "2020-01-22            1       0    548               0       0\n",
      "2020-01-23            1       0    643               0       0\n",
      "2020-01-24            2       0    920               0       2\n",
      "2020-01-25            2       0   1406               0       3\n",
      "2020-01-26            5       0   2075               0       3\n",
      "...                 ...     ...    ...             ...     ...\n",
      "2020-07-23      4038816  793720  86045          298731  216667\n",
      "2020-07-24      4112531  799499  86202          299500  217797\n",
      "2020-07-25      4178970  805332  86381          300270  217801\n",
      "2020-07-26      4233923  811073  86570          301020  217801\n",
      "2020-07-27      4290259  816680  86783          301708  220352\n",
      "\n",
      "[188 rows x 5 columns]\n"
     ]
    }
   ],
   "source": [
    "df_pivot_five_country = df_pivot[['US', 'Russia', 'China', 'United Kingdom', 'France']]\n",
    "print(df_pivot_five_country)"
   ]
  },
  {
   "cell_type": "markdown",
   "metadata": {},
   "source": [
    "Plot the pivot table"
   ]
  },
  {
   "cell_type": "code",
   "execution_count": 8,
   "metadata": {},
   "outputs": [
    {
     "data": {
      "image/png": "[encoded data removed]",
      "text/plain": [
       "<Figure size 1080x720 with 1 Axes>"
      ]
     },
     "metadata": {
      "needs_background": "light"
     },
     "output_type": "display_data"
    }
   ],
   "source": [
    "df_pivot_five_country.plot(figsize=(15,10))\n",
    "plt.xlabel('Time')\n",
    "plt.ylabel('COVID-19 Confirmed Cases in Million')\n",
    "plt.title('The Number of COVID-19 Confirmed Cases in US, Russia, China, UK, and France')\n",
    "plt.grid()"
   ]
  },
  {
   "cell_type": "markdown",
   "metadata": {},
   "source": [
    "Generate group data  \n",
    "(group by regions, lastest (up to 2020-07-27) total confirmed cases in different regions of the world)"
   ]
  },
  {
   "cell_type": "code",
   "execution_count": 9,
   "metadata": {},
   "outputs": [
    {
     "name": "stdout",
     "output_type": "stream",
     "text": [
      "WHO Region\n",
      "Americas                 8839286\n",
      "Europe                   3299523\n",
      "South-East Asia          1835297\n",
      "Eastern Mediterranean    1490744\n",
      "Africa                    723207\n",
      "Western Pacific           292428\n",
      "Name: Confirmed, dtype: int64\n"
     ]
    }
   ],
   "source": [
    "df_regions = df[df['Date'] == '2020-07-27'].groupby('WHO Region')['Confirmed'].agg(sum).sort_values(ascending=False)\n",
    "print(df_regions)"
   ]
  },
  {
   "cell_type": "markdown",
   "metadata": {},
   "source": [
    "  \n",
    "Answering the questions..."
   ]
  },
  {
   "cell_type": "markdown",
   "metadata": {},
   "source": [
    "1. How many people recovered from covid up to July 4th, 2020 in the US?"
   ]
  },
  {
   "cell_type": "code",
   "execution_count": 12,
   "metadata": {},
   "outputs": [
    {
     "name": "stdout",
     "output_type": "stream",
     "text": [
      "894325\n"
     ]
    }
   ],
   "source": [
    "num = df[(df['Country/Region'] == 'US') & (df['Date'] == '2020-07-04')]['Recovered'].values[0]\n",
    "print(num)"
   ]
  },
  {
   "cell_type": "markdown",
   "metadata": {},
   "source": [
    "2. When did Singapore reached 5000 confirmed cases?"
   ]
  },
  {
   "cell_type": "code",
   "execution_count": 13,
   "metadata": {},
   "outputs": [
    {
     "name": "stdout",
     "output_type": "stream",
     "text": [
      "2020-04-17\n"
     ]
    }
   ],
   "source": [
    "date = df_pivot[df_pivot['Singapore'] >= 5000].index.values.min()\n",
    "print(date)"
   ]
  },
  {
   "cell_type": "markdown",
   "metadata": {},
   "source": [
    "# Discussion  \n",
    "By doing the analysis, I was able to see how different parts of the world gradually have more and more people infected by the virus in the first half year of the pandemic..."
   ]
  },
  {
   "cell_type": "code",
   "execution_count": null,
   "metadata": {},
   "outputs": [],
   "source": []
  }
 ],
 "metadata": {
  "kernelspec": {
   "display_name": "Python 3 (ipykernel)",
   "language": "python",
   "name": "python3"
  },
  "language_info": {
   "codemirror_mode": {
    "name": "ipython",
    "version": 3
   },
   "file_extension": ".py",
   "mimetype": "text/x-python",
   "name": "python",
   "nbconvert_exporter": "python",
   "pygments_lexer": "ipython3",
   "version": "3.7.11"
  }
 },
 "nbformat": 4,
 "nbformat_minor": 4
}
